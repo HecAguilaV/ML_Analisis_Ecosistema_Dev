{
 "cells": [
  {
   "cell_type": "markdown",
   "id": "158d438f",
   "metadata": {},
   "source": [
    "# Análisis Exploratorio de Datos - Stack Overflow Survey\n",
    "\n",
    "Este notebook contiene el análisis exploratorio básico del dataset de Stack Overflow Developer Survey 2023.\n",
    "\n",
    "**Objetivo**: Analizar qué lenguajes de programación son más populares y su relación con salarios."
   ]
  },
  {
   "cell_type": "markdown",
   "id": "226601a9",
   "metadata": {},
   "source": [
    "## 1. Importar Librerías\n",
    "\n",
    "Primero cargo las librerías necesarias para el análisis."
   ]
  },
  {
   "cell_type": "code",
   "execution_count": 21,
   "id": "1cf24498",
   "metadata": {},
   "outputs": [
    {
     "name": "stdout",
     "output_type": "stream",
     "text": [
      "Librerías cargadas correctamente\n"
     ]
    }
   ],
   "source": [
    "import pandas as pd\n",
    "import numpy as np\n",
    "import matplotlib.pyplot as plt\n",
    "import seaborn as sns\n",
    "\n",
    "# Configuración de gráficos\n",
    "plt.style.use('ggplot')\n",
    "sns.set_palette(\"husl\")\n",
    "\n",
    "print(\"Librerías cargadas correctamente\")"
   ]
  },
  {
   "cell_type": "markdown",
   "id": "ef9a9321",
   "metadata": {},
   "source": [
    "## 2. Cargar Datos\n",
    "\n",
    "Cargo el dataset desde el archivo CSV. Si el archivo es muy pesado, usaré una muestra."
   ]
  },
  {
   "cell_type": "code",
   "execution_count": 22,
   "id": "90262464",
   "metadata": {},
   "outputs": [
    {
     "name": "stdout",
     "output_type": "stream",
     "text": [
      "Dataset cargado: 1000 filas, 84 columnas\n"
     ]
    }
   ],
   "source": [
    "# Ruta al dataset\n",
    "ruta_datos = '../data/01_raw/survey_sample.csv'\n",
    "\n",
    "# Cargar datos (si es muy grande, usar nrows para una muestra)\n",
    "try:\n",
    "    df = pd.read_csv(ruta_datos, nrows=1000)  # Solo 1000 filas para empezar\n",
    "    print(f\"Dataset cargado: {df.shape[0]} filas, {df.shape[1]} columnas\")\n",
    "except FileNotFoundError:\n",
    "    print(f\"Archivo no encontrado: {ruta_datos}\")\n",
    "    print(\"Verifica que el archivo existe en data/01_raw/\")"
   ]
  },
  {
   "cell_type": "markdown",
   "id": "64b80e9b",
   "metadata": {},
   "source": [
    "## 3. Exploración Inicial\n",
    "\n",
    "Primero veo qué columnas tengo y qué tipos de datos hay."
   ]
  },
  {
   "cell_type": "code",
   "execution_count": 23,
   "id": "ccb0fd18",
   "metadata": {},
   "outputs": [
    {
     "name": "stdout",
     "output_type": "stream",
     "text": [
      "Primeras 5 filas del dataset:\n"
     ]
    },
    {
     "data": {
      "text/html": [
       "<pre style=\"white-space:pre;overflow-x:auto;line-height:normal;font-family:Menlo,'DejaVu Sans Mono',consolas,'Courier New',monospace\"></pre>\n"
      ],
      "text/plain": []
     },
     "metadata": {},
     "output_type": "display_data"
    },
    {
     "data": {
      "text/html": [
       "<div>\n",
       "<style scoped>\n",
       "    .dataframe tbody tr th:only-of-type {\n",
       "        vertical-align: middle;\n",
       "    }\n",
       "\n",
       "    .dataframe tbody tr th {\n",
       "        vertical-align: top;\n",
       "    }\n",
       "\n",
       "    .dataframe thead th {\n",
       "        text-align: right;\n",
       "    }\n",
       "</style>\n",
       "<table border=\"1\" class=\"dataframe\">\n",
       "  <thead>\n",
       "    <tr style=\"text-align: right;\">\n",
       "      <th></th>\n",
       "      <th>ResponseId</th>\n",
       "      <th>Q120</th>\n",
       "      <th>MainBranch</th>\n",
       "      <th>Age</th>\n",
       "      <th>Employment</th>\n",
       "      <th>RemoteWork</th>\n",
       "      <th>CodingActivities</th>\n",
       "      <th>EdLevel</th>\n",
       "      <th>LearnCode</th>\n",
       "      <th>LearnCodeOnline</th>\n",
       "      <th>...</th>\n",
       "      <th>Frequency_1</th>\n",
       "      <th>Frequency_2</th>\n",
       "      <th>Frequency_3</th>\n",
       "      <th>TimeSearching</th>\n",
       "      <th>TimeAnswering</th>\n",
       "      <th>ProfessionalTech</th>\n",
       "      <th>Industry</th>\n",
       "      <th>SurveyLength</th>\n",
       "      <th>SurveyEase</th>\n",
       "      <th>ConvertedCompYearly</th>\n",
       "    </tr>\n",
       "  </thead>\n",
       "  <tbody>\n",
       "    <tr>\n",
       "      <th>0</th>\n",
       "      <td>1</td>\n",
       "      <td>I agree</td>\n",
       "      <td>None of these</td>\n",
       "      <td>18-24 years old</td>\n",
       "      <td>NaN</td>\n",
       "      <td>NaN</td>\n",
       "      <td>NaN</td>\n",
       "      <td>NaN</td>\n",
       "      <td>NaN</td>\n",
       "      <td>NaN</td>\n",
       "      <td>...</td>\n",
       "      <td>NaN</td>\n",
       "      <td>NaN</td>\n",
       "      <td>NaN</td>\n",
       "      <td>NaN</td>\n",
       "      <td>NaN</td>\n",
       "      <td>NaN</td>\n",
       "      <td>NaN</td>\n",
       "      <td>NaN</td>\n",
       "      <td>NaN</td>\n",
       "      <td>NaN</td>\n",
       "    </tr>\n",
       "    <tr>\n",
       "      <th>1</th>\n",
       "      <td>2</td>\n",
       "      <td>I agree</td>\n",
       "      <td>I am a developer by profession</td>\n",
       "      <td>25-34 years old</td>\n",
       "      <td>Employed, full-time</td>\n",
       "      <td>Remote</td>\n",
       "      <td>Hobby;Contribute to open-source projects;Boots...</td>\n",
       "      <td>Bachelor’s degree (B.A., B.S., B.Eng., etc.)</td>\n",
       "      <td>Books / Physical media;Colleague;Friend or fam...</td>\n",
       "      <td>Formal documentation provided by the owner of ...</td>\n",
       "      <td>...</td>\n",
       "      <td>1-2 times a week</td>\n",
       "      <td>10+ times a week</td>\n",
       "      <td>Never</td>\n",
       "      <td>15-30 minutes a day</td>\n",
       "      <td>15-30 minutes a day</td>\n",
       "      <td>DevOps function;Microservices;Automated testin...</td>\n",
       "      <td>Information Services, IT, Software Development...</td>\n",
       "      <td>Appropriate in length</td>\n",
       "      <td>Easy</td>\n",
       "      <td>285000.0</td>\n",
       "    </tr>\n",
       "    <tr>\n",
       "      <th>2</th>\n",
       "      <td>3</td>\n",
       "      <td>I agree</td>\n",
       "      <td>I am a developer by profession</td>\n",
       "      <td>45-54 years old</td>\n",
       "      <td>Employed, full-time</td>\n",
       "      <td>Hybrid (some remote, some in-person)</td>\n",
       "      <td>Hobby;Professional development or self-paced l...</td>\n",
       "      <td>Bachelor’s degree (B.A., B.S., B.Eng., etc.)</td>\n",
       "      <td>Books / Physical media;Colleague;On the job tr...</td>\n",
       "      <td>Formal documentation provided by the owner of ...</td>\n",
       "      <td>...</td>\n",
       "      <td>6-10 times a week</td>\n",
       "      <td>6-10 times a week</td>\n",
       "      <td>3-5 times a week</td>\n",
       "      <td>30-60 minutes a day</td>\n",
       "      <td>30-60 minutes a day</td>\n",
       "      <td>DevOps function;Microservices;Automated testin...</td>\n",
       "      <td>Information Services, IT, Software Development...</td>\n",
       "      <td>Appropriate in length</td>\n",
       "      <td>Easy</td>\n",
       "      <td>250000.0</td>\n",
       "    </tr>\n",
       "    <tr>\n",
       "      <th>3</th>\n",
       "      <td>4</td>\n",
       "      <td>I agree</td>\n",
       "      <td>I am a developer by profession</td>\n",
       "      <td>25-34 years old</td>\n",
       "      <td>Employed, full-time</td>\n",
       "      <td>Hybrid (some remote, some in-person)</td>\n",
       "      <td>Hobby</td>\n",
       "      <td>Bachelor’s degree (B.A., B.S., B.Eng., etc.)</td>\n",
       "      <td>Colleague;Friend or family member;Other online...</td>\n",
       "      <td>Formal documentation provided by the owner of ...</td>\n",
       "      <td>...</td>\n",
       "      <td>1-2 times a week</td>\n",
       "      <td>10+ times a week</td>\n",
       "      <td>1-2 times a week</td>\n",
       "      <td>15-30 minutes a day</td>\n",
       "      <td>30-60 minutes a day</td>\n",
       "      <td>Automated testing;Continuous integration (CI) ...</td>\n",
       "      <td>NaN</td>\n",
       "      <td>Appropriate in length</td>\n",
       "      <td>Easy</td>\n",
       "      <td>156000.0</td>\n",
       "    </tr>\n",
       "    <tr>\n",
       "      <th>4</th>\n",
       "      <td>5</td>\n",
       "      <td>I agree</td>\n",
       "      <td>I am a developer by profession</td>\n",
       "      <td>25-34 years old</td>\n",
       "      <td>Employed, full-time;Independent contractor, fr...</td>\n",
       "      <td>Remote</td>\n",
       "      <td>Hobby;Contribute to open-source projects;Profe...</td>\n",
       "      <td>Bachelor’s degree (B.A., B.S., B.Eng., etc.)</td>\n",
       "      <td>Books / Physical media;Online Courses or Certi...</td>\n",
       "      <td>Formal documentation provided by the owner of ...</td>\n",
       "      <td>...</td>\n",
       "      <td>1-2 times a week</td>\n",
       "      <td>1-2 times a week</td>\n",
       "      <td>3-5 times a week</td>\n",
       "      <td>60-120 minutes a day</td>\n",
       "      <td>30-60 minutes a day</td>\n",
       "      <td>Microservices;Automated testing;Observability ...</td>\n",
       "      <td>Other</td>\n",
       "      <td>Appropriate in length</td>\n",
       "      <td>Neither easy nor difficult</td>\n",
       "      <td>23456.0</td>\n",
       "    </tr>\n",
       "  </tbody>\n",
       "</table>\n",
       "<p>5 rows × 84 columns</p>\n",
       "</div>"
      ],
      "text/plain": [
       "\n",
       "   ResponseId     Q120                      MainBranch              Age  \\\n",
       "\u001b[1;36m0\u001b[0m           \u001b[1;36m1\u001b[0m  I agree                   \u001b[3;35mNone\u001b[0m of these  \u001b[1;36m18\u001b[0m-\u001b[1;36m24\u001b[0m years old   \n",
       "\u001b[1;36m1\u001b[0m           \u001b[1;36m2\u001b[0m  I agree  I am a developer by profession  \u001b[1;36m25\u001b[0m-\u001b[1;36m34\u001b[0m years old   \n",
       "\u001b[1;36m2\u001b[0m           \u001b[1;36m3\u001b[0m  I agree  I am a developer by profession  \u001b[1;36m45\u001b[0m-\u001b[1;36m54\u001b[0m years old   \n",
       "\u001b[1;36m3\u001b[0m           \u001b[1;36m4\u001b[0m  I agree  I am a developer by profession  \u001b[1;36m25\u001b[0m-\u001b[1;36m34\u001b[0m years old   \n",
       "\u001b[1;36m4\u001b[0m           \u001b[1;36m5\u001b[0m  I agree  I am a developer by profession  \u001b[1;36m25\u001b[0m-\u001b[1;36m34\u001b[0m years old   \n",
       "\n",
       "                                          Employment  \\\n",
       "\u001b[1;36m0\u001b[0m                                                NaN   \n",
       "\u001b[1;36m1\u001b[0m                                Employed, full-time   \n",
       "\u001b[1;36m2\u001b[0m                                Employed, full-time   \n",
       "\u001b[1;36m3\u001b[0m                                Employed, full-time   \n",
       "\u001b[1;36m4\u001b[0m  Employed, full-time;Independent contractor, fr\u001b[33m...\u001b[0m   \n",
       "\n",
       "                             RemoteWork  \\\n",
       "\u001b[1;36m0\u001b[0m                                   NaN   \n",
       "\u001b[1;36m1\u001b[0m                                Remote   \n",
       "\u001b[1;36m2\u001b[0m  Hybrid \u001b[1m(\u001b[0msome remote, some in-person\u001b[1m)\u001b[0m   \n",
       "\u001b[1;36m3\u001b[0m  Hybrid \u001b[1m(\u001b[0msome remote, some in-person\u001b[1m)\u001b[0m   \n",
       "\u001b[1;36m4\u001b[0m                                Remote   \n",
       "\n",
       "                                    CodingActivities  \\\n",
       "\u001b[1;36m0\u001b[0m                                                NaN   \n",
       "\u001b[1;36m1\u001b[0m  Hobby;Contribute to open-source projects;Boots\u001b[33m...\u001b[0m   \n",
       "\u001b[1;36m2\u001b[0m  Hobby;Professional development or self-paced l\u001b[33m...\u001b[0m   \n",
       "\u001b[1;36m3\u001b[0m                                              Hobby   \n",
       "\u001b[1;36m4\u001b[0m  Hobby;Contribute to open-source projects;Profe\u001b[33m...\u001b[0m   \n",
       "\n",
       "                                        EdLevel  \\\n",
       "\u001b[1;36m0\u001b[0m                                           NaN   \n",
       "\u001b[1;36m1\u001b[0m  Bachelor’s degree \u001b[1m(\u001b[0mB.A., B.S., B.Eng., etc.\u001b[1m)\u001b[0m   \n",
       "\u001b[1;36m2\u001b[0m  Bachelor’s degree \u001b[1m(\u001b[0mB.A., B.S., B.Eng., etc.\u001b[1m)\u001b[0m   \n",
       "\u001b[1;36m3\u001b[0m  Bachelor’s degree \u001b[1m(\u001b[0mB.A., B.S., B.Eng., etc.\u001b[1m)\u001b[0m   \n",
       "\u001b[1;36m4\u001b[0m  Bachelor’s degree \u001b[1m(\u001b[0mB.A., B.S., B.Eng., etc.\u001b[1m)\u001b[0m   \n",
       "\n",
       "                                           LearnCode  \\\n",
       "\u001b[1;36m0\u001b[0m                                                NaN   \n",
       "\u001b[1;36m1\u001b[0m  Books \u001b[35m/\u001b[0m Physical media;Colleague;Friend or fam\u001b[33m...\u001b[0m   \n",
       "\u001b[1;36m2\u001b[0m  Books \u001b[35m/\u001b[0m Physical media;Colleague;On the job tr\u001b[33m...\u001b[0m   \n",
       "\u001b[1;36m3\u001b[0m  Colleague;Friend or family member;Other online\u001b[33m...\u001b[0m   \n",
       "\u001b[1;36m4\u001b[0m  Books \u001b[35m/\u001b[0m Physical media;Online Courses or Certi\u001b[33m...\u001b[0m   \n",
       "\n",
       "                                     LearnCodeOnline  \u001b[33m...\u001b[0m        Frequency_1  \\\n",
       "\u001b[1;36m0\u001b[0m                                                NaN  \u001b[33m...\u001b[0m                NaN   \n",
       "\u001b[1;36m1\u001b[0m  Formal documentation provided by the owner of \u001b[33m...\u001b[0m  \u001b[33m...\u001b[0m   \u001b[1;36m1\u001b[0m-\u001b[1;36m2\u001b[0m times a week   \n",
       "\u001b[1;36m2\u001b[0m  Formal documentation provided by the owner of \u001b[33m...\u001b[0m  \u001b[33m...\u001b[0m  \u001b[1;36m6\u001b[0m-\u001b[1;36m10\u001b[0m times a week   \n",
       "\u001b[1;36m3\u001b[0m  Formal documentation provided by the owner of \u001b[33m...\u001b[0m  \u001b[33m...\u001b[0m   \u001b[1;36m1\u001b[0m-\u001b[1;36m2\u001b[0m times a week   \n",
       "\u001b[1;36m4\u001b[0m  Formal documentation provided by the owner of \u001b[33m...\u001b[0m  \u001b[33m...\u001b[0m   \u001b[1;36m1\u001b[0m-\u001b[1;36m2\u001b[0m times a week   \n",
       "\n",
       "         Frequency_2       Frequency_3         TimeSearching  \\\n",
       "\u001b[1;36m0\u001b[0m                NaN               NaN                   NaN   \n",
       "\u001b[1;36m1\u001b[0m   \u001b[1;36m10\u001b[0m+ times a week             Never   \u001b[1;36m15\u001b[0m-\u001b[1;36m30\u001b[0m minutes a day   \n",
       "\u001b[1;36m2\u001b[0m  \u001b[1;36m6\u001b[0m-\u001b[1;36m10\u001b[0m times a week  \u001b[1;36m3\u001b[0m-\u001b[1;36m5\u001b[0m times a week   \u001b[1;36m30\u001b[0m-\u001b[1;36m60\u001b[0m minutes a day   \n",
       "\u001b[1;36m3\u001b[0m   \u001b[1;36m10\u001b[0m+ times a week  \u001b[1;36m1\u001b[0m-\u001b[1;36m2\u001b[0m times a week   \u001b[1;36m15\u001b[0m-\u001b[1;36m30\u001b[0m minutes a day   \n",
       "\u001b[1;36m4\u001b[0m   \u001b[1;36m1\u001b[0m-\u001b[1;36m2\u001b[0m times a week  \u001b[1;36m3\u001b[0m-\u001b[1;36m5\u001b[0m times a week  \u001b[1;36m60\u001b[0m-\u001b[1;36m120\u001b[0m minutes a day   \n",
       "\n",
       "         TimeAnswering                                   ProfessionalTech  \\\n",
       "\u001b[1;36m0\u001b[0m                  NaN                                                NaN   \n",
       "\u001b[1;36m1\u001b[0m  \u001b[1;36m15\u001b[0m-\u001b[1;36m30\u001b[0m minutes a day  DevOps function;Microservices;Automated testin\u001b[33m...\u001b[0m   \n",
       "\u001b[1;36m2\u001b[0m  \u001b[1;36m30\u001b[0m-\u001b[1;36m60\u001b[0m minutes a day  DevOps function;Microservices;Automated testin\u001b[33m...\u001b[0m   \n",
       "\u001b[1;36m3\u001b[0m  \u001b[1;36m30\u001b[0m-\u001b[1;36m60\u001b[0m minutes a day  Automated testing;Continuous integration \u001b[1m(\u001b[0mCI\u001b[1m)\u001b[0m \u001b[33m...\u001b[0m   \n",
       "\u001b[1;36m4\u001b[0m  \u001b[1;36m30\u001b[0m-\u001b[1;36m60\u001b[0m minutes a day  Microservices;Automated testing;Observability \u001b[33m...\u001b[0m   \n",
       "\n",
       "                                            Industry           SurveyLength  \\\n",
       "\u001b[1;36m0\u001b[0m                                                NaN                    NaN   \n",
       "\u001b[1;36m1\u001b[0m  Information Services, IT, Software Development\u001b[33m...\u001b[0m  Appropriate in length   \n",
       "\u001b[1;36m2\u001b[0m  Information Services, IT, Software Development\u001b[33m...\u001b[0m  Appropriate in length   \n",
       "\u001b[1;36m3\u001b[0m                                                NaN  Appropriate in length   \n",
       "\u001b[1;36m4\u001b[0m                                              Other  Appropriate in length   \n",
       "\n",
       "                   SurveyEase ConvertedCompYearly  \n",
       "\u001b[1;36m0\u001b[0m                         NaN                 NaN  \n",
       "\u001b[1;36m1\u001b[0m                        Easy            \u001b[1;36m285000.0\u001b[0m  \n",
       "\u001b[1;36m2\u001b[0m                        Easy            \u001b[1;36m250000.0\u001b[0m  \n",
       "\u001b[1;36m3\u001b[0m                        Easy            \u001b[1;36m156000.0\u001b[0m  \n",
       "\u001b[1;36m4\u001b[0m  Neither easy nor difficult             \u001b[1;36m23456.0\u001b[0m  \n",
       "\n",
       "\u001b[1m[\u001b[0m\u001b[1;36m5\u001b[0m rows x \u001b[1;36m84\u001b[0m columns\u001b[1m]\u001b[0m"
      ]
     },
     "execution_count": 23,
     "metadata": {},
     "output_type": "execute_result"
    }
   ],
   "source": [
    "# Ver primeras filas\n",
    "print(\"Primeras 5 filas del dataset:\")\n",
    "df.head()"
   ]
  },
  {
   "cell_type": "code",
   "execution_count": 24,
   "id": "861bcc76",
   "metadata": {},
   "outputs": [
    {
     "name": "stdout",
     "output_type": "stream",
     "text": [
      "Información del dataset:\n",
      "<class 'pandas.core.frame.DataFrame'>\n",
      "RangeIndex: 1000 entries, 0 to 999\n",
      "Data columns (total 84 columns):\n",
      " #   Column                               Non-Null Count  Dtype  \n",
      "---  ------                               --------------  -----  \n",
      " 0   ResponseId                           1000 non-null   int64  \n",
      " 1   Q120                                 1000 non-null   object \n",
      " 2   MainBranch                           1000 non-null   object \n",
      " 3   Age                                  1000 non-null   object \n",
      " 4   Employment                           991 non-null    object \n",
      " 5   RemoteWork                           855 non-null    object \n",
      " 6   CodingActivities                     853 non-null    object \n",
      " 7   EdLevel                              992 non-null    object \n",
      " 8   LearnCode                            990 non-null    object \n",
      " 9   LearnCodeOnline                      780 non-null    object \n",
      " 10  LearnCodeCoursesCert                 408 non-null    object \n",
      " 11  YearsCode                            986 non-null    object \n",
      " 12  YearsCodePro                         787 non-null    object \n",
      " 13  DevType                              882 non-null    object \n",
      " 14  OrgSize                              783 non-null    object \n",
      " 15  PurchaseInfluence                    778 non-null    object \n",
      " 16  TechList                             675 non-null    object \n",
      " 17  BuyNewTool                           939 non-null    object \n",
      " 18  Country                              992 non-null    object \n",
      " 19  Currency                             785 non-null    object \n",
      " 20  CompTotal                            533 non-null    float64\n",
      " 21  LanguageHaveWorkedWith               984 non-null    object \n",
      " 22  LanguageWantToWorkWith               926 non-null    object \n",
      " 23  DatabaseHaveWorkedWith               834 non-null    object \n",
      " 24  DatabaseWantToWorkWith               694 non-null    object \n",
      " 25  PlatformHaveWorkedWith               676 non-null    object \n",
      " 26  PlatformWantToWorkWith               546 non-null    object \n",
      " 27  WebframeHaveWorkedWith               769 non-null    object \n",
      " 28  WebframeWantToWorkWith               658 non-null    object \n",
      " 29  MiscTechHaveWorkedWith               689 non-null    object \n",
      " 30  MiscTechWantToWorkWith               582 non-null    object \n",
      " 31  ToolsTechHaveWorkedWith              876 non-null    object \n",
      " 32  ToolsTechWantToWorkWith              775 non-null    object \n",
      " 33  NEWCollabToolsHaveWorkedWith         964 non-null    object \n",
      " 34  NEWCollabToolsWantToWorkWith         861 non-null    object \n",
      " 35  OpSysPersonal use                    976 non-null    object \n",
      " 36  OpSysProfessional use                877 non-null    object \n",
      " 37  OfficeStackAsyncHaveWorkedWith       774 non-null    object \n",
      " 38  OfficeStackAsyncWantToWorkWith       616 non-null    object \n",
      " 39  OfficeStackSyncHaveWorkedWith        933 non-null    object \n",
      " 40  OfficeStackSyncWantToWorkWith        776 non-null    object \n",
      " 41  AISearchHaveWorkedWith               582 non-null    object \n",
      " 42  AISearchWantToWorkWith               458 non-null    object \n",
      " 43  AIDevHaveWorkedWith                  236 non-null    object \n",
      " 44  AIDevWantToWorkWith                  162 non-null    object \n",
      " 45  NEWSOSites                           992 non-null    object \n",
      " 46  SOVisitFreq                          991 non-null    object \n",
      " 47  SOAccount                            992 non-null    object \n",
      " 48  SOPartFreq                           924 non-null    object \n",
      " 49  SOComm                               992 non-null    object \n",
      " 50  SOAI                                 580 non-null    object \n",
      " 51  AISelect                             992 non-null    object \n",
      " 52  AISent                               589 non-null    object \n",
      " 53  AIAcc                                365 non-null    object \n",
      " 54  AIBen                                588 non-null    object \n",
      " 55  AIToolInterested in Using            302 non-null    object \n",
      " 56  AIToolCurrently Using                323 non-null    object \n",
      " 57  AIToolNot interested in Using        190 non-null    object \n",
      " 58  AINextVery different                 77 non-null     object \n",
      " 59  AINextNeither different nor similar  56 non-null     object \n",
      " 60  AINextSomewhat similar               49 non-null     object \n",
      " 61  AINextVery similar                   23 non-null     object \n",
      " 62  AINextSomewhat different             143 non-null    object \n",
      " 63  TBranch                              765 non-null    object \n",
      " 64  ICorPM                               532 non-null    object \n",
      " 65  WorkExp                              537 non-null    float64\n",
      " 66  Knowledge_1                          513 non-null    object \n",
      " 67  Knowledge_2                          499 non-null    object \n",
      " 68  Knowledge_3                          502 non-null    object \n",
      " 69  Knowledge_4                          503 non-null    object \n",
      " 70  Knowledge_5                          502 non-null    object \n",
      " 71  Knowledge_6                          503 non-null    object \n",
      " 72  Knowledge_7                          503 non-null    object \n",
      " 73  Knowledge_8                          500 non-null    object \n",
      " 74  Frequency_1                          504 non-null    object \n",
      " 75  Frequency_2                          503 non-null    object \n",
      " 76  Frequency_3                          496 non-null    object \n",
      " 77  TimeSearching                        526 non-null    object \n",
      " 78  TimeAnswering                        526 non-null    object \n",
      " 79  ProfessionalTech                     506 non-null    object \n",
      " 80  Industry                             472 non-null    object \n",
      " 81  SurveyLength                         975 non-null    object \n",
      " 82  SurveyEase                           977 non-null    object \n",
      " 83  ConvertedCompYearly                  530 non-null    float64\n",
      "dtypes: float64(3), int64(1), object(80)\n",
      "memory usage: 656.4+ KB\n"
     ]
    }
   ],
   "source": [
    "# Información general del dataset\n",
    "print(\"Información del dataset:\")\n",
    "df.info()"
   ]
  },
  {
   "cell_type": "code",
   "execution_count": 25,
   "id": "cc1091d7",
   "metadata": {},
   "outputs": [
    {
     "name": "stdout",
     "output_type": "stream",
     "text": [
      "Estadísticas descriptivas:\n"
     ]
    },
    {
     "data": {
      "text/html": [
       "<pre style=\"white-space:pre;overflow-x:auto;line-height:normal;font-family:Menlo,'DejaVu Sans Mono',consolas,'Courier New',monospace\"></pre>\n"
      ],
      "text/plain": []
     },
     "metadata": {},
     "output_type": "display_data"
    },
    {
     "data": {
      "text/html": [
       "<div>\n",
       "<style scoped>\n",
       "    .dataframe tbody tr th:only-of-type {\n",
       "        vertical-align: middle;\n",
       "    }\n",
       "\n",
       "    .dataframe tbody tr th {\n",
       "        vertical-align: top;\n",
       "    }\n",
       "\n",
       "    .dataframe thead th {\n",
       "        text-align: right;\n",
       "    }\n",
       "</style>\n",
       "<table border=\"1\" class=\"dataframe\">\n",
       "  <thead>\n",
       "    <tr style=\"text-align: right;\">\n",
       "      <th></th>\n",
       "      <th>ResponseId</th>\n",
       "      <th>CompTotal</th>\n",
       "      <th>WorkExp</th>\n",
       "      <th>ConvertedCompYearly</th>\n",
       "    </tr>\n",
       "  </thead>\n",
       "  <tbody>\n",
       "    <tr>\n",
       "      <th>count</th>\n",
       "      <td>1000.000000</td>\n",
       "      <td>5.330000e+02</td>\n",
       "      <td>537.000000</td>\n",
       "      <td>5.300000e+02</td>\n",
       "    </tr>\n",
       "    <tr>\n",
       "      <th>mean</th>\n",
       "      <td>500.500000</td>\n",
       "      <td>2.668649e+07</td>\n",
       "      <td>10.567970</td>\n",
       "      <td>9.085177e+04</td>\n",
       "    </tr>\n",
       "    <tr>\n",
       "      <th>std</th>\n",
       "      <td>288.819436</td>\n",
       "      <td>3.004392e+08</td>\n",
       "      <td>7.985735</td>\n",
       "      <td>3.922154e+05</td>\n",
       "    </tr>\n",
       "    <tr>\n",
       "      <th>min</th>\n",
       "      <td>1.000000</td>\n",
       "      <td>0.000000e+00</td>\n",
       "      <td>0.000000</td>\n",
       "      <td>1.400000e+01</td>\n",
       "    </tr>\n",
       "    <tr>\n",
       "      <th>25%</th>\n",
       "      <td>250.750000</td>\n",
       "      <td>5.000000e+04</td>\n",
       "      <td>5.000000</td>\n",
       "      <td>3.439150e+04</td>\n",
       "    </tr>\n",
       "    <tr>\n",
       "      <th>50%</th>\n",
       "      <td>500.500000</td>\n",
       "      <td>9.000000e+04</td>\n",
       "      <td>8.000000</td>\n",
       "      <td>6.384150e+04</td>\n",
       "    </tr>\n",
       "    <tr>\n",
       "      <th>75%</th>\n",
       "      <td>750.250000</td>\n",
       "      <td>2.000000e+05</td>\n",
       "      <td>15.000000</td>\n",
       "      <td>1.016738e+05</td>\n",
       "    </tr>\n",
       "    <tr>\n",
       "      <th>max</th>\n",
       "      <td>1000.000000</td>\n",
       "      <td>5.000000e+09</td>\n",
       "      <td>40.000000</td>\n",
       "      <td>9.000000e+06</td>\n",
       "    </tr>\n",
       "  </tbody>\n",
       "</table>\n",
       "</div>"
      ],
      "text/plain": [
       "\n",
       "        ResponseId     CompTotal     WorkExp  ConvertedCompYearly\n",
       "count  \u001b[1;36m1000.000000\u001b[0m  \u001b[1;36m5.330000e+02\u001b[0m  \u001b[1;36m537.000000\u001b[0m         \u001b[1;36m5.300000e+02\u001b[0m\n",
       "mean    \u001b[1;36m500.500000\u001b[0m  \u001b[1;36m2.668649e+07\u001b[0m   \u001b[1;36m10.567970\u001b[0m         \u001b[1;36m9.085177e+04\u001b[0m\n",
       "std     \u001b[1;36m288.819436\u001b[0m  \u001b[1;36m3.004392e+08\u001b[0m    \u001b[1;36m7.985735\u001b[0m         \u001b[1;36m3.922154e+05\u001b[0m\n",
       "min       \u001b[1;36m1.000000\u001b[0m  \u001b[1;36m0.000000e+00\u001b[0m    \u001b[1;36m0.000000\u001b[0m         \u001b[1;36m1.400000e+01\u001b[0m\n",
       "\u001b[1;36m25\u001b[0m%     \u001b[1;36m250.750000\u001b[0m  \u001b[1;36m5.000000e+04\u001b[0m    \u001b[1;36m5.000000\u001b[0m         \u001b[1;36m3.439150e+04\u001b[0m\n",
       "\u001b[1;36m50\u001b[0m%     \u001b[1;36m500.500000\u001b[0m  \u001b[1;36m9.000000e+04\u001b[0m    \u001b[1;36m8.000000\u001b[0m         \u001b[1;36m6.384150e+04\u001b[0m\n",
       "\u001b[1;36m75\u001b[0m%     \u001b[1;36m750.250000\u001b[0m  \u001b[1;36m2.000000e+05\u001b[0m   \u001b[1;36m15.000000\u001b[0m         \u001b[1;36m1.016738e+05\u001b[0m\n",
       "max    \u001b[1;36m1000.000000\u001b[0m  \u001b[1;36m5.000000e+09\u001b[0m   \u001b[1;36m40.000000\u001b[0m         \u001b[1;36m9.000000e+06\u001b[0m"
      ]
     },
     "execution_count": 25,
     "metadata": {},
     "output_type": "execute_result"
    }
   ],
   "source": [
    "# Estadísticas descriptivas\n",
    "print(\"Estadísticas descriptivas:\")\n",
    "df.describe()"
   ]
  },
  {
   "cell_type": "markdown",
   "id": "707b1d88",
   "metadata": {},
   "source": [
    "## 4. Análisis de Valores Faltantes\n",
    "\n",
    "Veo cuántos datos faltan en cada columna."
   ]
  },
  {
   "cell_type": "code",
   "execution_count": 26,
   "id": "2c5d87ab",
   "metadata": {},
   "outputs": [
    {
     "name": "stdout",
     "output_type": "stream",
     "text": [
      "Columnas con datos faltantes: 80\n",
      "\n",
      "Top 10 columnas con más datos faltantes:\n",
      "AINextVery similar                     97.7\n",
      "AINextSomewhat similar                 95.1\n",
      "AINextNeither different nor similar    94.4\n",
      "AINextVery different                   92.3\n",
      "AINextSomewhat different               85.7\n",
      "AIDevWantToWorkWith                    83.8\n",
      "AIToolNot interested in Using          81.0\n",
      "AIDevHaveWorkedWith                    76.4\n",
      "AIToolInterested in Using              69.8\n",
      "AIToolCurrently Using                  67.7\n",
      "dtype: float64\n"
     ]
    }
   ],
   "source": [
    "# Calcular porcentaje de valores faltantes\n",
    "valores_faltantes = (df.isnull().sum() / len(df)) * 100\n",
    "valores_faltantes = valores_faltantes[valores_faltantes > 0].sort_values(ascending=False)\n",
    "\n",
    "print(f\"Columnas con datos faltantes: {len(valores_faltantes)}\")\n",
    "print(\"\\nTop 10 columnas con más datos faltantes:\")\n",
    "print(valores_faltantes.head(10))"
   ]
  },
  {
   "cell_type": "code",
   "execution_count": 27,
   "id": "58af75be",
   "metadata": {},
   "outputs": [
    {
     "data": {
      "text/html": [
       "<pre style=\"white-space:pre;overflow-x:auto;line-height:normal;font-family:Menlo,'DejaVu Sans Mono',consolas,'Courier New',monospace\"></pre>\n"
      ],
      "text/plain": []
     },
     "metadata": {},
     "output_type": "display_data"
    },
    {
     "data": {
      "image/png": "[encoded data removed]",
      "text/plain": [
       "\u001b[1m<\u001b[0m\u001b[1;95mFigure\u001b[0m\u001b[39m size 100\u001b[0m\u001b[1;36m0x600\u001b[0m\u001b[39m with \u001b[0m\u001b[1;36m1\u001b[0m\u001b[39m Axes\u001b[0m\u001b[1m>\u001b[0m"
      ]
     },
     "metadata": {},
     "output_type": "display_data"
    }
   ],
   "source": [
    "# Visualizar datos faltantes\n",
    "if len(valores_faltantes) > 0:\n",
    "    plt.figure(figsize=(10, 6))\n",
    "    valores_faltantes.head(15).plot(kind='barh')\n",
    "    plt.xlabel('Porcentaje de valores faltantes')\n",
    "    plt.title('Top 15 Columnas con Más Datos Faltantes')\n",
    "    plt.tight_layout()\n",
    "    plt.show()"
   ]
  },
  {
   "cell_type": "code",
   "execution_count": 28,
   "id": "e7fa0a18",
   "metadata": {},
   "outputs": [
    {
     "name": "stdout",
     "output_type": "stream",
     "text": [
      "La mediana del salario ('CompTotal') es: 90,000.00\n",
      "Valores faltantes en 'CompTotal' ANTES de imputar: 467\n"
     ]
    },
    {
     "data": {
      "text/html": [
       "<pre style=\"white-space:pre;overflow-x:auto;line-height:normal;font-family:Menlo,'DejaVu Sans Mono',consolas,'Courier New',monospace\"><span style=\"color: #7fbfbf; text-decoration-color: #7fbfbf\">[10/10/25 19:57:57] </span><span style=\"color: #808000; text-decoration-color: #808000\">WARNING </span> <span style=\"color: #800080; text-decoration-color: #800080\">/var/folders/w6/_4nrsqh50td9n_bbs41ss89m0000gn/T/ipykernel_6549/</span><span style=\"color: #ff00ff; text-decoration-color: #ff00ff\">980909</span> <a href=\"file:///usr/local/Cellar/python@3.13/3.13.7/Frameworks/Python.framework/Versions/3.13/lib/python3.13/warnings.py\" target=\"_blank\"><span style=\"color: #7f7f7f; text-decoration-color: #7f7f7f\">warnings.py</span></a><span style=\"color: #7f7f7f; text-decoration-color: #7f7f7f\">:</span><a href=\"file:///usr/local/Cellar/python@3.13/3.13.7/Frameworks/Python.framework/Versions/3.13/lib/python3.13/warnings.py#110\" target=\"_blank\"><span style=\"color: #7f7f7f; text-decoration-color: #7f7f7f\">110</span></a>\n",
       "<span style=\"color: #7fbfbf; text-decoration-color: #7fbfbf\">                    </span>         <span style=\"color: #ff00ff; text-decoration-color: #ff00ff\">868.py</span>:<span style=\"color: #008080; text-decoration-color: #008080; font-weight: bold\">17</span>: FutureWarning: A value is trying to be set on a copy of a   <span style=\"color: #7f7f7f; text-decoration-color: #7f7f7f\">               </span>\n",
       "<span style=\"color: #7fbfbf; text-decoration-color: #7fbfbf\">                    </span>         DataFrame or Series through chained assignment using an inplace        <span style=\"color: #7f7f7f; text-decoration-color: #7f7f7f\">               </span>\n",
       "<span style=\"color: #7fbfbf; text-decoration-color: #7fbfbf\">                    </span>         method.                                                                <span style=\"color: #7f7f7f; text-decoration-color: #7f7f7f\">               </span>\n",
       "<span style=\"color: #7fbfbf; text-decoration-color: #7fbfbf\">                    </span>         The behavior will change in pandas <span style=\"color: #008080; text-decoration-color: #008080; font-weight: bold\">3.0</span>. This inplace method will never <span style=\"color: #7f7f7f; text-decoration-color: #7f7f7f\">               </span>\n",
       "<span style=\"color: #7fbfbf; text-decoration-color: #7fbfbf\">                    </span>         work because the intermediate object on which we are setting values    <span style=\"color: #7f7f7f; text-decoration-color: #7f7f7f\">               </span>\n",
       "<span style=\"color: #7fbfbf; text-decoration-color: #7fbfbf\">                    </span>         always behaves as a copy.                                              <span style=\"color: #7f7f7f; text-decoration-color: #7f7f7f\">               </span>\n",
       "<span style=\"color: #7fbfbf; text-decoration-color: #7fbfbf\">                    </span>                                                                                <span style=\"color: #7f7f7f; text-decoration-color: #7f7f7f\">               </span>\n",
       "<span style=\"color: #7fbfbf; text-decoration-color: #7fbfbf\">                    </span>         For example, when doing <span style=\"color: #008000; text-decoration-color: #008000\">'df.method(value, inplace=True)'</span>, try using    <span style=\"color: #7f7f7f; text-decoration-color: #7f7f7f\">               </span>\n",
       "<span style=\"color: #7fbfbf; text-decoration-color: #7fbfbf\">                    </span>         <span style=\"color: #008000; text-decoration-color: #008000\">'df.method({col: value}, inplace=True)'</span> or df = <span style=\"color: #800080; text-decoration-color: #800080; font-weight: bold\">df.method</span><span style=\"font-weight: bold\">(</span>value<span style=\"font-weight: bold\">)</span>       <span style=\"color: #7f7f7f; text-decoration-color: #7f7f7f\">               </span>\n",
       "<span style=\"color: #7fbfbf; text-decoration-color: #7fbfbf\">                    </span>         instead, to perform the operation inplace on the original object.      <span style=\"color: #7f7f7f; text-decoration-color: #7f7f7f\">               </span>\n",
       "<span style=\"color: #7fbfbf; text-decoration-color: #7fbfbf\">                    </span>                                                                                <span style=\"color: #7f7f7f; text-decoration-color: #7f7f7f\">               </span>\n",
       "<span style=\"color: #7fbfbf; text-decoration-color: #7fbfbf\">                    </span>                                                                                <span style=\"color: #7f7f7f; text-decoration-color: #7f7f7f\">               </span>\n",
       "<span style=\"color: #7fbfbf; text-decoration-color: #7fbfbf\">                    </span>           df_copia<span style=\"font-weight: bold\">[</span><span style=\"color: #008000; text-decoration-color: #008000\">'CompTotal'</span><span style=\"font-weight: bold\">]</span><span style=\"color: #800080; text-decoration-color: #800080; font-weight: bold\">.fillna</span><span style=\"font-weight: bold\">(</span>mediana_salario, <span style=\"color: #808000; text-decoration-color: #808000\">inplace</span>=<span style=\"color: #00ff00; text-decoration-color: #00ff00; font-style: italic\">True</span><span style=\"font-weight: bold\">)</span>          <span style=\"color: #7f7f7f; text-decoration-color: #7f7f7f\">               </span>\n",
       "<span style=\"color: #7fbfbf; text-decoration-color: #7fbfbf\">                    </span>                                                                                <span style=\"color: #7f7f7f; text-decoration-color: #7f7f7f\">               </span>\n",
       "</pre>\n"
      ],
      "text/plain": [
       "\u001b[2;36m[10/10/25 19:57:57]\u001b[0m\u001b[2;36m \u001b[0m\u001b[33mWARNING \u001b[0m \u001b[35m/var/folders/w6/_4nrsqh50td9n_bbs41ss89m0000gn/T/ipykernel_6549/\u001b[0m\u001b[95m980909\u001b[0m \u001b]8;id=380224;file:///usr/local/Cellar/python@3.13/3.13.7/Frameworks/Python.framework/Versions/3.13/lib/python3.13/warnings.py\u001b\\\u001b[2mwarnings.py\u001b[0m\u001b]8;;\u001b\\\u001b[2m:\u001b[0m\u001b]8;id=782008;file:///usr/local/Cellar/python@3.13/3.13.7/Frameworks/Python.framework/Versions/3.13/lib/python3.13/warnings.py#110\u001b\\\u001b[2m110\u001b[0m\u001b]8;;\u001b\\\n",
       "\u001b[2;36m                    \u001b[0m         \u001b[95m868.py\u001b[0m:\u001b[1;36m17\u001b[0m: FutureWarning: A value is trying to be set on a copy of a   \u001b[2m               \u001b[0m\n",
       "\u001b[2;36m                    \u001b[0m         DataFrame or Series through chained assignment using an inplace        \u001b[2m               \u001b[0m\n",
       "\u001b[2;36m                    \u001b[0m         method.                                                                \u001b[2m               \u001b[0m\n",
       "\u001b[2;36m                    \u001b[0m         The behavior will change in pandas \u001b[1;36m3.0\u001b[0m. This inplace method will never \u001b[2m               \u001b[0m\n",
       "\u001b[2;36m                    \u001b[0m         work because the intermediate object on which we are setting values    \u001b[2m               \u001b[0m\n",
       "\u001b[2;36m                    \u001b[0m         always behaves as a copy.                                              \u001b[2m               \u001b[0m\n",
       "\u001b[2;36m                    \u001b[0m                                                                                \u001b[2m               \u001b[0m\n",
       "\u001b[2;36m                    \u001b[0m         For example, when doing \u001b[32m'df\u001b[0m\u001b[32m.method\u001b[0m\u001b[32m(\u001b[0m\u001b[32mvalue, \u001b[0m\u001b[32minplace\u001b[0m\u001b[32m=\u001b[0m\u001b[32mTrue\u001b[0m\u001b[32m)\u001b[0m\u001b[32m'\u001b[0m, try using    \u001b[2m               \u001b[0m\n",
       "\u001b[2;36m                    \u001b[0m         \u001b[32m'df.method\u001b[0m\u001b[32m(\u001b[0m\u001b[32m{\u001b[0m\u001b[32mcol: value\u001b[0m\u001b[32m}\u001b[0m\u001b[32m, \u001b[0m\u001b[32minplace\u001b[0m\u001b[32m=\u001b[0m\u001b[32mTrue\u001b[0m\u001b[32m)\u001b[0m\u001b[32m'\u001b[0m or df = \u001b[1;35mdf\u001b[0m\u001b[1;35m.method\u001b[0m\u001b[1m(\u001b[0mvalue\u001b[1m)\u001b[0m       \u001b[2m               \u001b[0m\n",
       "\u001b[2;36m                    \u001b[0m         instead, to perform the operation inplace on the original object.      \u001b[2m               \u001b[0m\n",
       "\u001b[2;36m                    \u001b[0m                                                                                \u001b[2m               \u001b[0m\n",
       "\u001b[2;36m                    \u001b[0m                                                                                \u001b[2m               \u001b[0m\n",
       "\u001b[2;36m                    \u001b[0m           df_copia\u001b[1m[\u001b[0m\u001b[32m'CompTotal'\u001b[0m\u001b[1m]\u001b[0m\u001b[1;35m.fillna\u001b[0m\u001b[1m(\u001b[0mmediana_salario, \u001b[33minplace\u001b[0m=\u001b[3;92mTrue\u001b[0m\u001b[1m)\u001b[0m          \u001b[2m               \u001b[0m\n",
       "\u001b[2;36m                    \u001b[0m                                                                                \u001b[2m               \u001b[0m\n"
      ]
     },
     "metadata": {},
     "output_type": "display_data"
    },
    {
     "name": "stdout",
     "output_type": "stream",
     "text": [
      "Valores faltantes en 'CompTotal' DESPUÉS de imputar: 0\n",
      "\n",
      "Valores faltantes en 'LanguageHaveWorkedWith' ANTES: 16\n"
     ]
    },
    {
     "data": {
      "text/html": [
       "<pre style=\"white-space:pre;overflow-x:auto;line-height:normal;font-family:Menlo,'DejaVu Sans Mono',consolas,'Courier New',monospace\"><span style=\"color: #7fbfbf; text-decoration-color: #7fbfbf\">[10/10/25 19:57:58] </span><span style=\"color: #808000; text-decoration-color: #808000\">WARNING </span> <span style=\"color: #800080; text-decoration-color: #800080\">/var/folders/w6/_4nrsqh50td9n_bbs41ss89m0000gn/T/ipykernel_6549/</span><span style=\"color: #ff00ff; text-decoration-color: #ff00ff\">980909</span> <a href=\"file:///usr/local/Cellar/python@3.13/3.13.7/Frameworks/Python.framework/Versions/3.13/lib/python3.13/warnings.py\" target=\"_blank\"><span style=\"color: #7f7f7f; text-decoration-color: #7f7f7f\">warnings.py</span></a><span style=\"color: #7f7f7f; text-decoration-color: #7f7f7f\">:</span><a href=\"file:///usr/local/Cellar/python@3.13/3.13.7/Frameworks/Python.framework/Versions/3.13/lib/python3.13/warnings.py#110\" target=\"_blank\"><span style=\"color: #7f7f7f; text-decoration-color: #7f7f7f\">110</span></a>\n",
       "<span style=\"color: #7fbfbf; text-decoration-color: #7fbfbf\">                    </span>         <span style=\"color: #ff00ff; text-decoration-color: #ff00ff\">868.py</span>:<span style=\"color: #008080; text-decoration-color: #008080; font-weight: bold\">32</span>: FutureWarning: A value is trying to be set on a copy of a   <span style=\"color: #7f7f7f; text-decoration-color: #7f7f7f\">               </span>\n",
       "<span style=\"color: #7fbfbf; text-decoration-color: #7fbfbf\">                    </span>         DataFrame or Series through chained assignment using an inplace        <span style=\"color: #7f7f7f; text-decoration-color: #7f7f7f\">               </span>\n",
       "<span style=\"color: #7fbfbf; text-decoration-color: #7fbfbf\">                    </span>         method.                                                                <span style=\"color: #7f7f7f; text-decoration-color: #7f7f7f\">               </span>\n",
       "<span style=\"color: #7fbfbf; text-decoration-color: #7fbfbf\">                    </span>         The behavior will change in pandas <span style=\"color: #008080; text-decoration-color: #008080; font-weight: bold\">3.0</span>. This inplace method will never <span style=\"color: #7f7f7f; text-decoration-color: #7f7f7f\">               </span>\n",
       "<span style=\"color: #7fbfbf; text-decoration-color: #7fbfbf\">                    </span>         work because the intermediate object on which we are setting values    <span style=\"color: #7f7f7f; text-decoration-color: #7f7f7f\">               </span>\n",
       "<span style=\"color: #7fbfbf; text-decoration-color: #7fbfbf\">                    </span>         always behaves as a copy.                                              <span style=\"color: #7f7f7f; text-decoration-color: #7f7f7f\">               </span>\n",
       "<span style=\"color: #7fbfbf; text-decoration-color: #7fbfbf\">                    </span>                                                                                <span style=\"color: #7f7f7f; text-decoration-color: #7f7f7f\">               </span>\n",
       "<span style=\"color: #7fbfbf; text-decoration-color: #7fbfbf\">                    </span>         For example, when doing <span style=\"color: #008000; text-decoration-color: #008000\">'df.method(value, inplace=True)'</span>, try using    <span style=\"color: #7f7f7f; text-decoration-color: #7f7f7f\">               </span>\n",
       "<span style=\"color: #7fbfbf; text-decoration-color: #7fbfbf\">                    </span>         <span style=\"color: #008000; text-decoration-color: #008000\">'df.method({col: value}, inplace=True)'</span> or df = <span style=\"color: #800080; text-decoration-color: #800080; font-weight: bold\">df.method</span><span style=\"font-weight: bold\">(</span>value<span style=\"font-weight: bold\">)</span>       <span style=\"color: #7f7f7f; text-decoration-color: #7f7f7f\">               </span>\n",
       "<span style=\"color: #7fbfbf; text-decoration-color: #7fbfbf\">                    </span>         instead, to perform the operation inplace on the original object.      <span style=\"color: #7f7f7f; text-decoration-color: #7f7f7f\">               </span>\n",
       "<span style=\"color: #7fbfbf; text-decoration-color: #7fbfbf\">                    </span>                                                                                <span style=\"color: #7f7f7f; text-decoration-color: #7f7f7f\">               </span>\n",
       "<span style=\"color: #7fbfbf; text-decoration-color: #7fbfbf\">                    </span>                                                                                <span style=\"color: #7f7f7f; text-decoration-color: #7f7f7f\">               </span>\n",
       "<span style=\"color: #7fbfbf; text-decoration-color: #7fbfbf\">                    </span>           df_copia<span style=\"font-weight: bold\">[</span><span style=\"color: #008000; text-decoration-color: #008000\">'LanguageHaveWorkedWith'</span><span style=\"font-weight: bold\">]</span><span style=\"color: #800080; text-decoration-color: #800080; font-weight: bold\">.fillna</span><span style=\"font-weight: bold\">(</span><span style=\"color: #008000; text-decoration-color: #008000\">'Ninguno'</span>, <span style=\"color: #808000; text-decoration-color: #808000\">inplace</span>=<span style=\"color: #00ff00; text-decoration-color: #00ff00; font-style: italic\">True</span><span style=\"font-weight: bold\">)</span>   <span style=\"color: #7f7f7f; text-decoration-color: #7f7f7f\">               </span>\n",
       "<span style=\"color: #7fbfbf; text-decoration-color: #7fbfbf\">                    </span>                                                                                <span style=\"color: #7f7f7f; text-decoration-color: #7f7f7f\">               </span>\n",
       "</pre>\n"
      ],
      "text/plain": [
       "\u001b[2;36m[10/10/25 19:57:58]\u001b[0m\u001b[2;36m \u001b[0m\u001b[33mWARNING \u001b[0m \u001b[35m/var/folders/w6/_4nrsqh50td9n_bbs41ss89m0000gn/T/ipykernel_6549/\u001b[0m\u001b[95m980909\u001b[0m \u001b]8;id=2414;file:///usr/local/Cellar/python@3.13/3.13.7/Frameworks/Python.framework/Versions/3.13/lib/python3.13/warnings.py\u001b\\\u001b[2mwarnings.py\u001b[0m\u001b]8;;\u001b\\\u001b[2m:\u001b[0m\u001b]8;id=172047;file:///usr/local/Cellar/python@3.13/3.13.7/Frameworks/Python.framework/Versions/3.13/lib/python3.13/warnings.py#110\u001b\\\u001b[2m110\u001b[0m\u001b]8;;\u001b\\\n",
       "\u001b[2;36m                    \u001b[0m         \u001b[95m868.py\u001b[0m:\u001b[1;36m32\u001b[0m: FutureWarning: A value is trying to be set on a copy of a   \u001b[2m               \u001b[0m\n",
       "\u001b[2;36m                    \u001b[0m         DataFrame or Series through chained assignment using an inplace        \u001b[2m               \u001b[0m\n",
       "\u001b[2;36m                    \u001b[0m         method.                                                                \u001b[2m               \u001b[0m\n",
       "\u001b[2;36m                    \u001b[0m         The behavior will change in pandas \u001b[1;36m3.0\u001b[0m. This inplace method will never \u001b[2m               \u001b[0m\n",
       "\u001b[2;36m                    \u001b[0m         work because the intermediate object on which we are setting values    \u001b[2m               \u001b[0m\n",
       "\u001b[2;36m                    \u001b[0m         always behaves as a copy.                                              \u001b[2m               \u001b[0m\n",
       "\u001b[2;36m                    \u001b[0m                                                                                \u001b[2m               \u001b[0m\n",
       "\u001b[2;36m                    \u001b[0m         For example, when doing \u001b[32m'df\u001b[0m\u001b[32m.method\u001b[0m\u001b[32m(\u001b[0m\u001b[32mvalue, \u001b[0m\u001b[32minplace\u001b[0m\u001b[32m=\u001b[0m\u001b[32mTrue\u001b[0m\u001b[32m)\u001b[0m\u001b[32m'\u001b[0m, try using    \u001b[2m               \u001b[0m\n",
       "\u001b[2;36m                    \u001b[0m         \u001b[32m'df.method\u001b[0m\u001b[32m(\u001b[0m\u001b[32m{\u001b[0m\u001b[32mcol: value\u001b[0m\u001b[32m}\u001b[0m\u001b[32m, \u001b[0m\u001b[32minplace\u001b[0m\u001b[32m=\u001b[0m\u001b[32mTrue\u001b[0m\u001b[32m)\u001b[0m\u001b[32m'\u001b[0m or df = \u001b[1;35mdf\u001b[0m\u001b[1;35m.method\u001b[0m\u001b[1m(\u001b[0mvalue\u001b[1m)\u001b[0m       \u001b[2m               \u001b[0m\n",
       "\u001b[2;36m                    \u001b[0m         instead, to perform the operation inplace on the original object.      \u001b[2m               \u001b[0m\n",
       "\u001b[2;36m                    \u001b[0m                                                                                \u001b[2m               \u001b[0m\n",
       "\u001b[2;36m                    \u001b[0m                                                                                \u001b[2m               \u001b[0m\n",
       "\u001b[2;36m                    \u001b[0m           df_copia\u001b[1m[\u001b[0m\u001b[32m'LanguageHaveWorkedWith'\u001b[0m\u001b[1m]\u001b[0m\u001b[1;35m.fillna\u001b[0m\u001b[1m(\u001b[0m\u001b[32m'Ninguno'\u001b[0m, \u001b[33minplace\u001b[0m=\u001b[3;92mTrue\u001b[0m\u001b[1m)\u001b[0m   \u001b[2m               \u001b[0m\n",
       "\u001b[2;36m                    \u001b[0m                                                                                \u001b[2m               \u001b[0m\n"
      ]
     },
     "metadata": {},
     "output_type": "display_data"
    },
    {
     "name": "stdout",
     "output_type": "stream",
     "text": [
      "Valores faltantes en 'LanguageHaveWorkedWith' DESPUÉS: 0\n"
     ]
    }
   ],
   "source": [
    "# Creamos una copia para no modificar el dataframe original\n",
    "df_copia = df.copy()\n",
    "\n",
    "# --- Ejemplo de Imputación Numérica ---\n",
    "# Vamos a rellenar los valores faltantes de 'CompTotal' (salario) con la mediana.\n",
    "# Usamos la mediana porque es menos sensible a salarios extremadamente altos.\n",
    "\n",
    "if 'CompTotal' in df_copia.columns:\n",
    "    mediana_salario = df_copia['CompTotal'].median()\n",
    "    print(f\"La mediana del salario ('CompTotal') es: {mediana_salario:,.2f}\")\n",
    "    \n",
    "    # Contamos cuántos faltaban antes\n",
    "    faltantes_antes = df_copia['CompTotal'].isnull().sum()\n",
    "    print(f\"Valores faltantes en 'CompTotal' ANTES de imputar: {faltantes_antes}\")\n",
    "    \n",
    "    # Rellenamos\n",
    "    df_copia['CompTotal'].fillna(mediana_salario, inplace=True)\n",
    "    \n",
    "    # Verificamos\n",
    "    faltantes_despues = df_copia['CompTotal'].isnull().sum()\n",
    "    print(f\"Valores faltantes en 'CompTotal' DESPUÉS de imputar: {faltantes_despues}\")\n",
    "else:\n",
    "    print(\"La columna 'CompTotal' no se encontró.\")\n",
    "\n",
    "# --- Ejemplo de Imputación Categórica ---\n",
    "# Rellenamos los valores faltantes en 'LanguageHaveWorkedWith' con \"Ninguno\".\n",
    "\n",
    "if 'LanguageHaveWorkedWith' in df_copia.columns:\n",
    "    faltantes_antes = df_copia['LanguageHaveWorkedWith'].isnull().sum()\n",
    "    print(f\"\\nValores faltantes en 'LanguageHaveWorkedWith' ANTES: {faltantes_antes}\")\n",
    "    \n",
    "    df_copia['LanguageHaveWorkedWith'].fillna('Ninguno', inplace=True)\n",
    "    \n",
    "    faltantes_despues = df_copia['LanguageHaveWorkedWith'].isnull().sum()\n",
    "    print(f\"Valores faltantes en 'LanguageHaveWorkedWith' DESPUÉS: {faltantes_despues}\")\n",
    "else:\n",
    "    print(\"\\nLa columna 'LanguageHaveWorkedWith' no se encontró.\")"
   ]
  },
  {
   "cell_type": "markdown",
   "id": "69cbc60b",
   "metadata": {},
   "source": [
    "## 4.1. Estrategias para Manejar Datos Faltantes (Ejemplo)\n",
    "\n",
    "Como vimos, hay muchos datos faltantes. En un proyecto real, decidir qué hacer con ellos es un paso crucial. Aquí te muestro dos estrategias comunes, aunque no las aplicaré permanentemente para no alterar el resto del análisis exploratorio.\n",
    "\n",
    "**Estrategia 1: Eliminación**\n",
    "- **¿Qué es?**: Se eliminan las filas o columnas que tienen datos faltantes.\n",
    "- **Cuándo usarla**: Es útil si una columna casi no tiene datos, o si a una fila le falta un valor muy importante (como el salario, si ese es nuestro objetivo).\n",
    "- **Riesgo**: Se puede perder mucha información valiosa. Por ejemplo, si eliminamos todas las filas que tienen al menos un dato faltante, podríamos quedarnos con un dataset muy pequeño.\n",
    "\n",
    "**Estrategia 2: Imputación**\n",
    "- **¿Qué es?**: Se rellenan los huecos con un valor.\n",
    "- **Para columnas numéricas**: Se puede usar la media, la mediana (mejor si hay valores atípicos) o un cero.\n",
    "- **Para columnas de texto (categóricas)**: Se puede usar el valor más frecuente (la moda) o una categoría nueva como \"Desconocido\".\n",
    "\n",
    "Veamos un ejemplo práctico con una copia de nuestros datos."
   ]
  },
  {
   "cell_type": "markdown",
   "id": "8b1a79bd",
   "metadata": {},
   "source": [
    "## 5. Análisis de Lenguajes de Programación\n",
    "\n",
    "Busco columnas relacionadas con lenguajes y analizo cuáles son más populares."
   ]
  },
  {
   "cell_type": "code",
   "execution_count": 29,
   "id": "12cb74be",
   "metadata": {},
   "outputs": [
    {
     "name": "stdout",
     "output_type": "stream",
     "text": [
      "Columnas encontradas relacionadas con lenguajes: 8\n",
      "\n",
      "Primeras 10 columnas:\n",
      "1. TechList\n",
      "2. LanguageHaveWorkedWith\n",
      "3. LanguageWantToWorkWith\n",
      "4. MiscTechHaveWorkedWith\n",
      "5. MiscTechWantToWorkWith\n",
      "6. ToolsTechHaveWorkedWith\n",
      "7. ToolsTechWantToWorkWith\n",
      "8. ProfessionalTech\n"
     ]
    }
   ],
   "source": [
    "# Buscar columnas de lenguajes\n",
    "columnas_lenguajes = [col for col in df.columns if 'language' in col.lower() or 'tech' in col.lower()]\n",
    "\n",
    "print(f\"Columnas encontradas relacionadas con lenguajes: {len(columnas_lenguajes)}\")\n",
    "print(\"\\nPrimeras 10 columnas:\")\n",
    "for i, col in enumerate(columnas_lenguajes[:10], 1):\n",
    "    print(f\"{i}. {col}\")"
   ]
  },
  {
   "cell_type": "code",
   "execution_count": 30,
   "id": "f9fd660d",
   "metadata": {},
   "outputs": [
    {
     "name": "stdout",
     "output_type": "stream",
     "text": [
      "Analizando columna: TechList\n",
      "\n",
      "Top 10 valores más frecuentes:\n",
      "TechList\n",
      "Investigate     530\n",
      "Given a list     89\n",
      "Other            56\n",
      "Name: count, dtype: int64\n"
     ]
    },
    {
     "data": {
      "text/html": [
       "<pre style=\"white-space:pre;overflow-x:auto;line-height:normal;font-family:Menlo,'DejaVu Sans Mono',consolas,'Courier New',monospace\"></pre>\n"
      ],
      "text/plain": []
     },
     "metadata": {},
     "output_type": "display_data"
    },
    {
     "data": {
      "image/png": "[encoded data removed]",
      "text/plain": [
       "\u001b[1m<\u001b[0m\u001b[1;95mFigure\u001b[0m\u001b[39m size 100\u001b[0m\u001b[1;36m0x600\u001b[0m\u001b[39m with \u001b[0m\u001b[1;36m1\u001b[0m\u001b[39m Axes\u001b[0m\u001b[1m>\u001b[0m"
      ]
     },
     "metadata": {},
     "output_type": "display_data"
    }
   ],
   "source": [
    "# Si encontré columnas de lenguajes, analizar la primera\n",
    "if len(columnas_lenguajes) > 0:\n",
    "    col_principal = columnas_lenguajes[0]\n",
    "    print(f\"Analizando columna: {col_principal}\")\n",
    "    \n",
    "    # Contar valores\n",
    "    conteo = df[col_principal].value_counts().head(10)\n",
    "    print(f\"\\nTop 10 valores más frecuentes:\")\n",
    "    print(conteo)\n",
    "    \n",
    "    # Gráfico\n",
    "    plt.figure(figsize=(10, 6))\n",
    "    conteo.plot(kind='barh')\n",
    "    plt.xlabel('Frecuencia')\n",
    "    plt.title(f'Top 10 en {col_principal}')\n",
    "    plt.tight_layout()\n",
    "    plt.show()\n",
    "else:\n",
    "    print(\"No se encontraron columnas específicas de lenguajes\")"
   ]
  },
  {
   "cell_type": "markdown",
   "id": "5e7d6b69",
   "metadata": {},
   "source": [
    "## 6. Análisis de Salarios\n",
    "\n",
    "Busco información sobre salarios en el dataset."
   ]
  },
  {
   "cell_type": "code",
   "execution_count": 31,
   "id": "7a6cae1c",
   "metadata": {},
   "outputs": [
    {
     "name": "stdout",
     "output_type": "stream",
     "text": [
      "Columnas encontradas relacionadas con salarios: 2\n",
      "1. CompTotal\n",
      "2. ConvertedCompYearly\n"
     ]
    }
   ],
   "source": [
    "# Buscar columnas de salarios\n",
    "palabras_clave = ['salary', 'comp', 'income', 'pay']\n",
    "columnas_salario = [col for col in df.columns if any(palabra in col.lower() for palabra in palabras_clave)]\n",
    "\n",
    "print(f\"Columnas encontradas relacionadas con salarios: {len(columnas_salario)}\")\n",
    "for i, col in enumerate(columnas_salario, 1):\n",
    "    print(f\"{i}. {col}\")"
   ]
  },
  {
   "cell_type": "code",
   "execution_count": 32,
   "id": "2cdceff2",
   "metadata": {},
   "outputs": [
    {
     "name": "stdout",
     "output_type": "stream",
     "text": [
      "Analizando columna: CompTotal\n",
      "\n",
      "Estadísticas de salarios:\n",
      "Total válidos: 533\n",
      "Media: $26,686,492.25\n",
      "Mediana: $90,000.00\n",
      "Mínimo: $0.00\n",
      "Máximo: $5,000,000,000.00\n"
     ]
    },
    {
     "data": {
      "text/html": [
       "<pre style=\"white-space:pre;overflow-x:auto;line-height:normal;font-family:Menlo,'DejaVu Sans Mono',consolas,'Courier New',monospace\"></pre>\n"
      ],
      "text/plain": []
     },
     "metadata": {},
     "output_type": "display_data"
    },
    {
     "data": {
      "image/png": "[encoded data removed]",
      "text/plain": [
       "\u001b[1m<\u001b[0m\u001b[1;95mFigure\u001b[0m\u001b[39m size 100\u001b[0m\u001b[1;36m0x600\u001b[0m\u001b[39m with \u001b[0m\u001b[1;36m1\u001b[0m\u001b[39m Axes\u001b[0m\u001b[1m>\u001b[0m"
      ]
     },
     "metadata": {},
     "output_type": "display_data"
    }
   ],
   "source": [
    "# Si hay columnas de salario, analizar la primera\n",
    "if len(columnas_salario) > 0:\n",
    "    col_salario = columnas_salario[0]\n",
    "    print(f\"Analizando columna: {col_salario}\")\n",
    "    \n",
    "    # Limpiar datos (intentar convertir a numérico)\n",
    "    try:\n",
    "        salarios = pd.to_numeric(df[col_salario], errors='coerce')\n",
    "        salarios_validos = salarios.dropna()\n",
    "        \n",
    "        print(f\"\\nEstadísticas de salarios:\")\n",
    "        print(f\"Total válidos: {len(salarios_validos)}\")\n",
    "        print(f\"Media: ${salarios_validos.mean():,.2f}\")\n",
    "        print(f\"Mediana: ${salarios_validos.median():,.2f}\")\n",
    "        print(f\"Mínimo: ${salarios_validos.min():,.2f}\")\n",
    "        print(f\"Máximo: ${salarios_validos.max():,.2f}\")\n",
    "        \n",
    "        # Histograma\n",
    "        plt.figure(figsize=(10, 6))\n",
    "        plt.hist(salarios_validos, bins=30, edgecolor='black')\n",
    "        plt.xlabel('Salario')\n",
    "        plt.ylabel('Frecuencia')\n",
    "        plt.title('Distribución de Salarios')\n",
    "        plt.tight_layout()\n",
    "        plt.show()\n",
    "        \n",
    "    except Exception as e:\n",
    "        print(f\"Error al procesar salarios: {e}\")\n",
    "else:\n",
    "    print(\"No se encontraron columnas de salarios\")"
   ]
  },
  {
   "cell_type": "markdown",
   "id": "a2fa0403",
   "metadata": {},
   "source": [
    "## 7. Conclusiones y Próximos Pasos\n",
    "\n",
    "Después de esta primera exploración, estas son mis conclusiones iniciales:\n",
    "\n",
    "- **Dataset**: Trabajé con una muestra de **1,000 registros y 89 columnas**, lo cual fue suficiente para entender la estructura de los datos.\n",
    "- **Datos Faltantes**: Como es común en las encuestas, hay muchas columnas con una gran cantidad de datos faltantes. Mostré un ejemplo de cómo se podrían rellenar (imputar), pero no apliqué una limpieza profunda para este análisis inicial.\n",
    "- **Lenguajes Populares**: A partir del primer vistazo, lenguajes como **JavaScript, HTML/CSS y Python** parecen ser los más utilizados entre los encuestados.\n",
    "- **Salarios**: La distribución de salarios es muy amplia, con muchos salarios concentrados en la parte baja y unos pocos muy altos. Esto sugiere que usar la **mediana** es una mejor medida que la media para entender el \"salario típico\".\n",
    "\n",
    "### Ideas para seguir explorando (Próximos Pasos)\n",
    "\n",
    "Si continuara con este proyecto, los siguientes pasos lógicos serían:\n",
    "\n",
    "1.  **Hacer una limpieza de datos más profunda**: Aplicar de forma permanente las estrategias para manejar datos faltantes y limpiar las columnas de texto.\n",
    "2.  **Analizar la correlación entre lenguajes y salarios**: Cruzar los datos para ver si los programadores que usan ciertos lenguajes tienden a ganar más.\n",
    "3.  **Crear visualizaciones más detalladas**: Usar gráficos más avanzados para explorar las relaciones entre la experiencia, el país, los lenguajes y el salario."
   ]
  },
  {
   "cell_type": "markdown",
   "id": "7c9f9976",
   "metadata": {},
   "source": [
    "**Autor**: Héctor Aguila    \n",
    "**Asignatura**: Machine Learning    \n",
    "**Fecha**: 10 Octubre 2025  "
   ]
  }
 ],
 "metadata": {
  "kernelspec": {
   "display_name": ".venv",
   "language": "python",
   "name": "python3"
  },
  "language_info": {
   "codemirror_mode": {
    "name": "ipython",
    "version": 3
   },
   "file_extension": ".py",
   "mimetype": "text/x-python",
   "name": "python",
   "nbconvert_exporter": "python",
   "pygments_lexer": "ipython3",
   "version": "3.13.7"
  }
 },
 "nbformat": 4,
 "nbformat_minor": 5
}
